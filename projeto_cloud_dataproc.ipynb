{
  "nbformat": 4,
  "nbformat_minor": 0,
  "metadata": {
    "colab": {
      "provenance": [],
      "authorship_tag": "ABX9TyOKSO9Tbsb3crUwptD1xRGA",
      "include_colab_link": true
    },
    "kernelspec": {
      "name": "python3",
      "display_name": "Python 3"
    },
    "language_info": {
      "name": "python"
    }
  },
  "cells": [
    {
      "cell_type": "markdown",
      "metadata": {
        "id": "view-in-github",
        "colab_type": "text"
      },
      "source": [
        "<a href=\"https://colab.research.google.com/github/pacasarini/cloud_gcp/blob/main/projeto_cloud_dataproc.ipynb\" target=\"_parent\"><img src=\"https://colab.research.google.com/assets/colab-badge.svg\" alt=\"Open In Colab\"/></a>"
      ]
    },
    {
      "cell_type": "code",
      "execution_count": null,
      "metadata": {
        "id": "wKFWexSdRFdY"
      },
      "outputs": [],
      "source": [
        "import pyspark\n",
        "from pyspark.sql import SparkSession\n",
        "\n",
        "appName = \"PySpark Projeto Cloud\"\n",
        "master = \"local\"\n",
        "\n",
        "# Create Spark session\n",
        "spark = SparkSession.builder \\\n",
        "    .appName(appName) \\\n",
        "    .master(master) \\\n",
        "    .getOrCreate()\n",
        "\n",
        "sc = spark.sparkContext\n",
        "\n",
        "# read data from text file and split each line into words\n",
        "arquivo = sc.textFile(\"gs://projeto-cloud-paula/teste\")\n",
        "\n",
        "# read data from text file and split each line into words\n",
        "words = arquivo.flatMap(lambda line: line.split(\" \"))\n",
        "\n",
        "# count the occurrence of each word\n",
        "wordCounts = words.map(lambda word: (word, 1)).reduceByKey(lambda a,b:a +b)\n",
        "\n",
        "print(wordCounts.take(5))\n",
        "\n",
        "from google.cloud import storage\n",
        "\n",
        "# Configurações do projeto e do bucket\n",
        "project_id = \"My First Project\"\n",
        "bucket_name = \"projeto-cloud-paula\"\n",
        "file_name = \"contagem-palavras-teste.txt\"\n",
        "\n",
        "# Inicialize o cliente do Google Cloud Storage\n",
        "storage_client = storage.Client(project=project_id)\n",
        "\n",
        "# Obtém o bucket\n",
        "bucket = storage_client.bucket(bucket_name)\n",
        "\n",
        "# Cria um novo arquivo de texto no bucket e escreve a string no arquivo\n",
        "blob = bucket.blob(file_name)\n",
        "blob.upload_from_string(str(wordCounts.take(wordCounts.count())))"
      ]
    }
  ]
}